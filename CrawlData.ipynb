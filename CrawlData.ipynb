{
  "nbformat": 4,
  "nbformat_minor": 0,
  "metadata": {
    "colab": {
      "provenance": []
    },
    "kernelspec": {
      "name": "python3",
      "display_name": "Python 3"
    },
    "language_info": {
      "name": "python"
    }
  },
  "cells": [
    {
      "cell_type": "code",
      "execution_count": null,
      "metadata": {
        "id": "-0PyjsHfT2Ya",
        "colab": {
          "base_uri": "https://localhost:8080/"
        },
        "outputId": "f1001f7f-59c8-4987-9c05-a6f38b187709"
      },
      "outputs": [
        {
          "output_type": "stream",
          "name": "stdout",
          "text": [
            "[]\n"
          ]
        }
      ],
      "source": [
        "import requests\n",
        "import re\n",
        "from bs4 import BeautifulSoup\n",
        "import pandas as pd\n",
        "import csv\n",
        "headers = {\n",
        "  'User-Agent': 'Mozilla/5.0',\n",
        "  'accept-language': 'en-GB,en-US;q=0.9,en;q=0.8',\n",
        "}\n",
        "\n",
        "\n",
        "year = []\n",
        "prices = []\n",
        "name =[]\n",
        "types = []\n",
        "seatQuantity =[]\n",
        "motors = []\n",
        "material = []\n",
        "capacity = []\n",
        "origin =[]\n",
        "gears =[]\n",
        "company =[]\n",
        "\n",
        "\n",
        "\n",
        "def formatEngine(string):\n",
        "    words = string.split()\n",
        "    if(len(words) == 1):\n",
        "        material = string\n",
        "        capacity = 0\n",
        "    else:\n",
        "        material = words[0]\n",
        "        capacity = words[1]\n",
        "    return material, capacity\n",
        "\n",
        "\n",
        "def formatCompany(data):\n",
        "  return data.split(' ')[0]\n",
        "\n",
        "def formatCarName(data):\n",
        "  return data.replace(formatCompany(data),'')\n",
        "\n",
        "\n",
        "def formatCurrency(number):\n",
        "    number = number.replace(\" \", \"\")\n",
        "    if \"Tỷ\" in number and \"Triệu\" in number:\n",
        "        billion = int(number.split(\"Tỷ\")[0])\n",
        "        million = int(number.split(\"Tỷ\")[1].replace(\"Triệu\", \"\"))\n",
        "        value = billion * 1000000000 + million * 1000000\n",
        "    elif \"Tỷ\" in number:\n",
        "        billion = int(number.replace(\"Tỷ\", \"\"))\n",
        "        value = billion * 1000000000\n",
        "    else:\n",
        "        million = int(number.replace(\"Triệu\", \"\"))\n",
        "        value = million * 1000000\n",
        "    return '{:,}'.format(value)\n",
        "\n",
        "def crawl(page):\n",
        "\n",
        "  req = requests.get('https://bonbanh.com/oto-xe-moi-gia-duoi-1600-trieu/page,{}'.format(page), headers=headers)  # URL of the website which you want to scrape\n",
        "  content = req.content\n",
        "  soup = BeautifulSoup(content, 'html.parser')\n",
        "  products = soup.find_all('li', class_='car-item')\n",
        "  for product in products:\n",
        "      p_title =  product.find('h3').text.strip()\n",
        "      p_year = product.find('div', class_='cb1').find('b').text.strip()\n",
        "      p_price = product.find('div', class_='cb3').find('b').text.strip()\n",
        "      year.append(p_year)\n",
        "      prices.append(formatCurrency(p_price))\n",
        "      name.append(formatCarName(p_title))\n",
        "      company.append(formatCompany(p_title))\n",
        "      p_url = product.find('a').get('href')\n",
        "      detaiLCar = requests.get('https://bonbanh.com/{}'.format(str(p_url)),headers=headers)\n",
        "      detailSoup = BeautifulSoup(detaiLCar.content, 'html.parser')\n",
        "      details = detailSoup.find_all('div',class_='row')\n",
        "      p_seat = detailSoup.find('div', class_='row_last').find('span', class_='inp').text.strip()\n",
        "      seatQuantity.append(p_seat.replace('chỗ',''))\n",
        "      for detail in details:\n",
        "        p_label = detail.find('label').text.strip()\n",
        "        p_data = detail.find('span', class_='inp').text.strip()\n",
        "        if('Dòng xe' in p_label):\n",
        "          types.append(p_data)\n",
        "        if('Động cơ' in p_label):\n",
        "          [t_material, t_capacity] = formatEngine(p_data)\n",
        "          material.append(t_material)\n",
        "          capacity.append(t_capacity)\n",
        "        if('Xuất xứ' in p_label):\n",
        "          origin.append(p_data)\n",
        "        if('Hộp số' in p_label):\n",
        "          gears.append(p_data)\n",
        "          \n",
        "\n",
        "\n",
        "      \n",
        "\n",
        "def save(name,  prices, year,types, seatQuantity, material, capacity,origin, gears,company):\n",
        "  data = {\n",
        "      'Hãng xe':company,\n",
        "      'Tên xe': name,\n",
        "      'Giá (VNĐ)': prices,\n",
        "      'Năm sản xuất': year,\n",
        "      'Dòng xe': types,\n",
        "      'Số chỗ ngồi': seatQuantity,\n",
        "      'Nguyên liệu': material,\n",
        "      'Dung tích (L)': capacity,\n",
        "      'Xuất xứ': origin,\n",
        "      'Hộp số': gears,\n",
        "  }\n",
        "  df = pd.DataFrame.from_dict(data, orient='index')\n",
        "\n",
        "  df = df.transpose()\n",
        "  dataset = pd.DataFrame(data=df)\n",
        "  dataset.to_csv('car-data.csv')\n",
        "  dataset.to_excel('data.xlsx', index=False)\n",
        "  \n",
        "\n",
        "  csv_reader = csv.reader('car-data.csv',delimiter=\",\")\n",
        "\n",
        "\n",
        "if __name__ == '__main__':\n",
        "  print(name)\n",
        "  for i in range(1, 300):\n",
        "    crawl(i)\n",
        "  crawl(1)\n",
        "  save(name, prices,year,types,seatQuantity, material, capacity,origin, gears,company)\n"
      ]
    },
    {
      "cell_type": "code",
      "source": [
        "\n",
        "def formatEngine(string):\n",
        "    words = string.split()\n",
        "    if(len(words) == 1):\n",
        "        material = string\n",
        "        capacity = 0\n",
        "    else:\n",
        "        material = words[0]\n",
        "        capacity = words[1]\n",
        "    return material, capacity\n",
        "\n",
        "print(formatEngine('Hybird'))"
      ],
      "metadata": {
        "colab": {
          "base_uri": "https://localhost:8080/"
        },
        "id": "txZX4DYu6N-Q",
        "outputId": "749a1fdf-34bd-4b88-9a5c-9efeb9bddaab"
      },
      "execution_count": null,
      "outputs": [
        {
          "output_type": "stream",
          "name": "stdout",
          "text": [
            "('Hybird', 0)\n"
          ]
        }
      ]
    }
  ]
}